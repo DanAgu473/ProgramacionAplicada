{
  "cells": [
    {
      "cell_type": "markdown",
      "id": "36095c5f",
      "metadata": {
        "id": "36095c5f"
      },
      "source": [
        "# Introducción comentada a NumPy, Pandas y Matplotlib\n",
        "Este notebook presenta una introducción práctica y comentada a tres librerías fundamentales de Python para el análisis de datos y la visualización: **NumPy**, **Pandas** y **Matplotlib**. El contenido está basado en el material de Kaggle 'Introduction to NumPy, Pandas and Matplotlib', con explicaciones en español para reforzar el aprendizaje."
      ]
    },
    {
      "cell_type": "markdown",
      "id": "9120ba4c",
      "metadata": {
        "id": "9120ba4c"
      },
      "source": [
        "## 1. NumPy\n",
        "**NumPy** (Numerical Python) es una librería que permite trabajar con arreglos multidimensionales y operaciones matemáticas de alto rendimiento.\n",
        "\n",
        "Es la base de muchas otras librerías científicas en Python, como Pandas, SciPy o Scikit-learn."
      ]
    },
    {
      "cell_type": "code",
      "execution_count": 1,
      "id": "35f05d2d",
      "metadata": {
        "colab": {
          "base_uri": "https://localhost:8080/"
        },
        "id": "35f05d2d",
        "outputId": "034cf5f3-ace6-4001-f6ef-af1ff2854aa5"
      },
      "outputs": [
        {
          "output_type": "stream",
          "name": "stdout",
          "text": [
            "Arreglo 1D: [1 2 3 4 5]\n",
            "\n",
            "Matriz 2D:\n",
            " [[1 2 3]\n",
            " [4 5 6]]\n"
          ]
        }
      ],
      "source": [
        "# Importamos la librería\n",
        "import numpy as np\n",
        "\n",
        "# Creamos un arreglo de una dimensión\n",
        "arr = np.array([1, 2, 3, 4, 5])\n",
        "print('Arreglo 1D:', arr)\n",
        "\n",
        "# Creamos un arreglo de dos dimensiones (matriz)\n",
        "matriz = np.array([[1, 2, 3], [4, 5, 6]])\n",
        "print('\\nMatriz 2D:\\n', matriz)"
      ]
    },
    {
      "cell_type": "markdown",
      "id": "7e07a332",
      "metadata": {
        "id": "7e07a332"
      },
      "source": [
        "**Comentario:**\n",
        "- `np.array()` crea un arreglo de NumPy.\n",
        "- Los arreglos permiten operaciones vectorizadas más rápidas que las listas normales de Python."
      ]
    },
    {
      "cell_type": "code",
      "execution_count": 2,
      "id": "10cd244e",
      "metadata": {
        "colab": {
          "base_uri": "https://localhost:8080/"
        },
        "id": "10cd244e",
        "outputId": "5c03faf9-998d-4299-fe90-c6e4edf6e652"
      },
      "outputs": [
        {
          "output_type": "stream",
          "name": "stdout",
          "text": [
            "Suma: [11 12 13 14 15]\n",
            "Multiplicación: [ 2  4  6  8 10]\n",
            "Raíz cuadrada: [1.         1.41421356 1.73205081 2.         2.23606798]\n"
          ]
        }
      ],
      "source": [
        "# Operaciones matemáticas con arreglos\n",
        "print('Suma:', arr + 10)\n",
        "print('Multiplicación:', arr * 2)\n",
        "print('Raíz cuadrada:', np.sqrt(arr))"
      ]
    },
    {
      "cell_type": "markdown",
      "id": "8587203c",
      "metadata": {
        "id": "8587203c"
      },
      "source": [
        "**Comentario:**\n",
        "Las operaciones se aplican **elemento a elemento**, sin necesidad de ciclos `for`. Esto mejora el rendimiento y hace el código más legible."
      ]
    },
    {
      "cell_type": "markdown",
      "id": "ef6b44f3",
      "metadata": {
        "id": "ef6b44f3"
      },
      "source": [
        "## 2. Pandas\n",
        "**Pandas** se utiliza para manipular, limpiar y analizar datos estructurados. Sus principales estructuras son **Series** (una columna) y **DataFrames** (una tabla completa)."
      ]
    },
    {
      "cell_type": "code",
      "execution_count": 3,
      "id": "093cde4e",
      "metadata": {
        "colab": {
          "base_uri": "https://localhost:8080/"
        },
        "id": "093cde4e",
        "outputId": "ced06060-f9a4-45fb-c68b-f9e69ba12de2"
      },
      "outputs": [
        {
          "output_type": "stream",
          "name": "stdout",
          "text": [
            "Serie de ejemplo:\n",
            "0    10\n",
            "1    20\n",
            "2    30\n",
            "3    40\n",
            "Name: Ventas, dtype: int64\n",
            "\n",
            "DataFrame de productos:\n",
            "  Producto  Precio  Unidades\n",
            "0        A    1000         5\n",
            "1        B    1200         8\n",
            "2        C     800         3\n"
          ]
        }
      ],
      "source": [
        "import pandas as pd\n",
        "\n",
        "# Crear una Serie de Pandas\n",
        "serie = pd.Series([10, 20, 30, 40], name='Ventas')\n",
        "print('Serie de ejemplo:')\n",
        "print(serie)\n",
        "\n",
        "# Crear un DataFrame\n",
        "productos = pd.DataFrame({\n",
        "    'Producto': ['A', 'B', 'C'],\n",
        "    'Precio': [1000, 1200, 800],\n",
        "    'Unidades': [5, 8, 3]\n",
        "})\n",
        "print('\\nDataFrame de productos:')\n",
        "print(productos)"
      ]
    },
    {
      "cell_type": "markdown",
      "id": "246388f1",
      "metadata": {
        "id": "246388f1"
      },
      "source": [
        "**Comentario:**\n",
        "- `pd.Series` representa una columna de datos con nombre.\n",
        "- `pd.DataFrame` agrupa varias columnas (estructuras tabulares)."
      ]
    },
    {
      "cell_type": "code",
      "execution_count": 4,
      "id": "6d4e83dd",
      "metadata": {
        "colab": {
          "base_uri": "https://localhost:8080/"
        },
        "id": "6d4e83dd",
        "outputId": "7412f9d5-f960-4f4b-ded6-5c2aa8eaaec3"
      },
      "outputs": [
        {
          "output_type": "stream",
          "name": "stdout",
          "text": [
            "\n",
            "DataFrame con columna Total:\n",
            "  Producto  Precio  Unidades  Total\n",
            "0        A    1000         5   5000\n",
            "1        B    1200         8   9600\n",
            "2        C     800         3   2400\n",
            "\n",
            "Resumen estadístico:\n",
            "       Precio  Unidades        Total\n",
            "count     3.0  3.000000     3.000000\n",
            "mean   1000.0  5.333333  5666.666667\n",
            "std     200.0  2.516611  3646.002377\n",
            "min     800.0  3.000000  2400.000000\n",
            "25%     900.0  4.000000  3700.000000\n",
            "50%    1000.0  5.000000  5000.000000\n",
            "75%    1100.0  6.500000  7300.000000\n",
            "max    1200.0  8.000000  9600.000000\n"
          ]
        }
      ],
      "source": [
        "# Calcular una nueva columna con el valor total\n",
        "productos['Total'] = productos['Precio'] * productos['Unidades']\n",
        "print('\\nDataFrame con columna Total:')\n",
        "print(productos)\n",
        "\n",
        "# Mostrar estadísticas descriptivas\n",
        "print('\\nResumen estadístico:')\n",
        "print(productos.describe())"
      ]
    },
    {
      "cell_type": "markdown",
      "id": "bc903f90",
      "metadata": {
        "id": "bc903f90"
      },
      "source": [
        "**Comentario:**\n",
        "- Pandas permite agregar columnas derivadas fácilmente.\n",
        "- `describe()` entrega información estadística útil como media, desviación estándar y valores extremos."
      ]
    },
    {
      "cell_type": "markdown",
      "id": "7b054ce7",
      "metadata": {
        "id": "7b054ce7"
      },
      "source": [
        "## 3. Matplotlib\n",
        "**Matplotlib** es una librería para crear gráficos estáticos, animados e interactivos en Python. Se utiliza ampliamente para visualizar los resultados de los análisis de datos."
      ]
    },
    {
      "cell_type": "code",
      "execution_count": 5,
      "id": "16cc3e35",
      "metadata": {
        "colab": {
          "base_uri": "https://localhost:8080/",
          "height": 410
        },
        "id": "16cc3e35",
        "outputId": "c906ed53-0680-4a6d-d80a-9774568780b0"
      },
      "outputs": [
        {
          "output_type": "display_data",
          "data": {
            "text/plain": [
              "<Figure size 600x400 with 1 Axes>"
            ],
            "image/png": "[encoded data removed]"
          },
          "metadata": {}
        }
      ],
      "source": [
        "import matplotlib.pyplot as plt\n",
        "\n",
        "# Graficar las ventas\n",
        "plt.figure(figsize=(6,4))\n",
        "plt.plot(serie, marker='o', color='teal')\n",
        "plt.title('Ventas por producto')\n",
        "plt.xlabel('Índice')\n",
        "plt.ylabel('Valor de venta')\n",
        "plt.grid(True)\n",
        "plt.show()"
      ]
    },
    {
      "cell_type": "markdown",
      "id": "b51128f5",
      "metadata": {
        "id": "b51128f5"
      },
      "source": [
        "**Comentario:**\n",
        "- `plt.plot()` genera gráficos de líneas simples.\n",
        "- Es posible personalizar títulos, etiquetas, colores y estilos."
      ]
    },
    {
      "cell_type": "code",
      "execution_count": 6,
      "id": "71594e06",
      "metadata": {
        "colab": {
          "base_uri": "https://localhost:8080/",
          "height": 410
        },
        "id": "71594e06",
        "outputId": "df3d6923-5021-4bc6-d477-95feba1bc333"
      },
      "outputs": [
        {
          "output_type": "display_data",
          "data": {
            "text/plain": [
              "<Figure size 600x400 with 1 Axes>"
            ],
            "image/png": "[encoded data removed]"
          },
          "metadata": {}
        }
      ],
      "source": [
        "# Gráfico de barras del DataFrame de productos\n",
        "plt.figure(figsize=(6,4))\n",
        "plt.bar(productos['Producto'], productos['Total'], color='orange')\n",
        "plt.title('Ventas totales por producto')\n",
        "plt.xlabel('Producto')\n",
        "plt.ylabel('Total vendido')\n",
        "plt.show()"
      ]
    },
    {
      "cell_type": "markdown",
      "id": "6b1a3956",
      "metadata": {
        "id": "6b1a3956"
      },
      "source": [
        "**Comentario:**\n",
        "- `plt.bar()` permite crear gráficos de barras.\n",
        "- Ideal para comparar valores entre categorías, como ventas por producto."
      ]
    },
    {
      "cell_type": "markdown",
      "id": "3f490e6d",
      "metadata": {
        "id": "3f490e6d"
      },
      "source": [
        "## Conclusión\n",
        "En este notebook se revisaron tres librerías esenciales del ecosistema de Python para el análisis de datos:\n",
        "- **NumPy**: manejo eficiente de arreglos y operaciones matemáticas.\n",
        "- **Pandas**: manipulación y análisis de datos estructurados.\n",
        "- **Matplotlib**: visualización gráfica de resultados.\n",
        "\n",
        "Estas herramientas son la base del trabajo en ciencia de datos, aprendizaje automático y análisis estadístico, permitiendo transformar, analizar y representar la información de forma clara y eficiente."
      ]
    }
  ],
  "metadata": {
    "colab": {
      "provenance": []
    },
    "language_info": {
      "name": "python"
    },
    "kernelspec": {
      "name": "python3",
      "display_name": "Python 3"
    }
  },
  "nbformat": 4,
  "nbformat_minor": 5
}